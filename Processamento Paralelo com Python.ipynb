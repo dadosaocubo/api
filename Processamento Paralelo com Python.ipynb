{
  "nbformat": 4,
  "nbformat_minor": 0,
  "metadata": {
    "colab": {
      "name": "Processamento Paralelo com Python.ipynb",
      "provenance": [],
      "collapsed_sections": []
    },
    "kernelspec": {
      "name": "python3",
      "display_name": "Python 3"
    }
  },
  "cells": [
    {
      "cell_type": "markdown",
      "metadata": {
        "id": "Vwxk-G_U8Y38"
      },
      "source": [
        "<img src=\"https://raw.githubusercontent.com/dadosaocubo/classificacao/master/DadosAoCubo.png\" alt=\"drawing\" width=\"500\"/>\n",
        "\n"
      ]
    },
    {
      "cell_type": "markdown",
      "metadata": {
        "id": "BJElcCQ6DwXv"
      },
      "source": [
        "[__D³__](https://dadosaocubo.com/) by [__Tiago Dias__](https://www.linkedin.com/in/diasctiago/) "
      ]
    },
    {
      "cell_type": "markdown",
      "metadata": {
        "id": "WUjSepFg5FNW"
      },
      "source": [
        "# Bibliotecas"
      ]
    },
    {
      "cell_type": "code",
      "metadata": {
        "id": "aWQWZpUa5EyO"
      },
      "source": [
        "import requests\n",
        "import json\n",
        "import pandas as pd\n",
        "from tqdm import tqdm\n",
        "from time import sleep, time\n",
        "from multiprocessing.pool import ThreadPool\n",
        "import seaborn as sns\n",
        "import matplotlib.pyplot as plt"
      ],
      "execution_count": 23,
      "outputs": []
    },
    {
      "cell_type": "markdown",
      "metadata": {
        "id": "EkiHCsw45fvI"
      },
      "source": [
        "# Requisição API"
      ]
    },
    {
      "cell_type": "code",
      "metadata": {
        "id": "Vr14JfyW5lTo"
      },
      "source": [
        "# Requisição dos dados dos Deputados\n",
        "url        = 'https://dadosabertos.camara.leg.br/api/v2/deputados'\n",
        "parametros = {}\n",
        "resposta   = requests.request(\"GET\", url, params=parametros)\n",
        "objetos    = json.loads(resposta.text)\n",
        "dados      = objetos['dados']"
      ],
      "execution_count": 24,
      "outputs": []
    },
    {
      "cell_type": "code",
      "metadata": {
        "colab": {
          "base_uri": "https://localhost:8080/"
        },
        "id": "QgY6aErT7ePD",
        "outputId": "d56d0095-932b-41ee-f1dc-5f068ddfba8e"
      },
      "source": [
        "len(dados)"
      ],
      "execution_count": 25,
      "outputs": [
        {
          "output_type": "execute_result",
          "data": {
            "text/plain": [
              "513"
            ]
          },
          "metadata": {
            "tags": []
          },
          "execution_count": 25
        }
      ]
    },
    {
      "cell_type": "code",
      "metadata": {
        "colab": {
          "base_uri": "https://localhost:8080/"
        },
        "id": "c5KBDY3W6GJv",
        "outputId": "18f69050-db7c-441b-e2e7-1329d80105e6"
      },
      "source": [
        "dados[0]"
      ],
      "execution_count": 26,
      "outputs": [
        {
          "output_type": "execute_result",
          "data": {
            "text/plain": [
              "{'email': 'dep.abiliosantana@camara.leg.br',\n",
              " 'id': 204554,\n",
              " 'idLegislatura': 56,\n",
              " 'nome': 'Abílio Santana',\n",
              " 'siglaPartido': 'PL',\n",
              " 'siglaUf': 'BA',\n",
              " 'uri': 'https://dadosabertos.camara.leg.br/api/v2/deputados/204554',\n",
              " 'uriPartido': 'https://dadosabertos.camara.leg.br/api/v2/partidos/37906',\n",
              " 'urlFoto': 'https://www.camara.leg.br/internet/deputado/bandep/204554.jpg'}"
            ]
          },
          "metadata": {
            "tags": []
          },
          "execution_count": 26
        }
      ]
    },
    {
      "cell_type": "code",
      "metadata": {
        "id": "rRreweGJ957H"
      },
      "source": [
        "# Selecionando todos os id dos deputados\n",
        "id = []\n",
        "for i in range(len(dados)):\n",
        "    id.append(str(dados[i]['id']))"
      ],
      "execution_count": 27,
      "outputs": []
    },
    {
      "cell_type": "code",
      "metadata": {
        "colab": {
          "base_uri": "https://localhost:8080/"
        },
        "id": "3D7FXLnZ-NWt",
        "outputId": "a3fd1446-bc6e-4968-be6c-3f9e35be6354"
      },
      "source": [
        "id[:5]"
      ],
      "execution_count": 28,
      "outputs": [
        {
          "output_type": "execute_result",
          "data": {
            "text/plain": [
              "['204554', '204521', '204379', '204560', '204528']"
            ]
          },
          "metadata": {
            "tags": []
          },
          "execution_count": 28
        }
      ]
    },
    {
      "cell_type": "markdown",
      "metadata": {
        "id": "IDonRfqJMBzx"
      },
      "source": [
        "## Processamento individual por id\n",
        "\n"
      ]
    },
    {
      "cell_type": "code",
      "metadata": {
        "id": "5tJfWwXU-Nay"
      },
      "source": [
        "# Requisição dos dados detalhes dos Deputados\n",
        "def detalhe_deputado(id):\n",
        "  url        = 'https://dadosabertos.camara.leg.br/api/v2/deputados/' + id\n",
        "  parametros = {}\n",
        "  resposta   = requests.request(\"GET\", url, params=parametros)\n",
        "  objetos    = json.loads(resposta.text)\n",
        "  dados      = objetos['dados']\n",
        "  return dados"
      ],
      "execution_count": 29,
      "outputs": []
    },
    {
      "cell_type": "code",
      "metadata": {
        "colab": {
          "base_uri": "https://localhost:8080/"
        },
        "id": "2zXYjRmdLySO",
        "outputId": "c350b623-1e38-4228-f7b7-be652927ada2"
      },
      "source": [
        "detalhe_deputado('204554')"
      ],
      "execution_count": 30,
      "outputs": [
        {
          "output_type": "execute_result",
          "data": {
            "text/plain": [
              "{'cpf': '36607606504',\n",
              " 'dataFalecimento': None,\n",
              " 'dataNascimento': '1965-02-13',\n",
              " 'escolaridade': 'Superior Incompleto',\n",
              " 'id': 204554,\n",
              " 'municipioNascimento': 'Salvador',\n",
              " 'nomeCivil': 'JOSE ABILIO SILVA DE SANTANA',\n",
              " 'redeSocial': [],\n",
              " 'sexo': 'M',\n",
              " 'ufNascimento': 'BA',\n",
              " 'ultimoStatus': {'condicaoEleitoral': 'Titular',\n",
              "  'data': '2019-02-01T11:45',\n",
              "  'descricaoStatus': None,\n",
              "  'email': 'dep.abiliosantana@camara.leg.br',\n",
              "  'gabinete': {'andar': '5',\n",
              "   'email': 'dep.abiliosantana@camara.leg.br',\n",
              "   'nome': '531',\n",
              "   'predio': '4',\n",
              "   'sala': '531',\n",
              "   'telefone': '3215-5531'},\n",
              "  'id': 204554,\n",
              "  'idLegislatura': 56,\n",
              "  'nome': 'Abílio Santana',\n",
              "  'nomeEleitoral': 'Abílio Santana',\n",
              "  'siglaPartido': 'PL',\n",
              "  'siglaUf': 'BA',\n",
              "  'situacao': 'Exercício',\n",
              "  'uri': 'https://dadosabertos.camara.leg.br/api/v2/deputados/204554',\n",
              "  'uriPartido': 'https://dadosabertos.camara.leg.br/api/v2/partidos/37906',\n",
              "  'urlFoto': 'https://www.camara.leg.br/internet/deputado/bandep/204554.jpg'},\n",
              " 'uri': 'https://dadosabertos.camara.leg.br/api/v2/deputados/204554',\n",
              " 'urlWebsite': None}"
            ]
          },
          "metadata": {
            "tags": []
          },
          "execution_count": 30
        }
      ]
    },
    {
      "cell_type": "code",
      "metadata": {
        "colab": {
          "base_uri": "https://localhost:8080/"
        },
        "id": "EkbG_Z05LyOn",
        "outputId": "ef8cfed3-384d-40e6-82c0-5e0c2f11848d"
      },
      "source": [
        "inicio_processo = time()\n",
        "deputado = detalhe_deputado('204521')\n",
        "fim_processo = time()\n",
        "processamento_individual = fim_processo - inicio_processo\n",
        "print('Processamento individual por id:', round( (processamento_individual), 1 ), 'segundos')"
      ],
      "execution_count": 31,
      "outputs": [
        {
          "output_type": "stream",
          "text": [
            "Processamento individual por id: 0.6 segundos\n"
          ],
          "name": "stdout"
        }
      ]
    },
    {
      "cell_type": "code",
      "metadata": {
        "id": "dVzxzTANLyLl"
      },
      "source": [
        "ids = id[:100]"
      ],
      "execution_count": 32,
      "outputs": []
    },
    {
      "cell_type": "code",
      "metadata": {
        "colab": {
          "base_uri": "https://localhost:8080/"
        },
        "id": "NZE6qyVjLyCP",
        "outputId": "8954ddea-c096-4f50-faab-a3bff8943f1e"
      },
      "source": [
        "inicio_processo = time()\n",
        "lista_api = []\n",
        "for i in tqdm(ids):\n",
        "  resultado_individual = detalhe_deputado(i)\n",
        "  lista_api.append(resultado_individual)\n",
        "fim_processo = time()\n",
        "processamento_sequencial = fim_processo - inicio_processo\n",
        "print('Processamento sequencial por id:', round( (processamento_sequencial), 1 ), 'segundos')"
      ],
      "execution_count": 33,
      "outputs": [
        {
          "output_type": "stream",
          "text": [
            "100%|██████████| 100/100 [00:59<00:00,  1.68it/s]"
          ],
          "name": "stderr"
        },
        {
          "output_type": "stream",
          "text": [
            "Processamento sequencial por id: 59.5 segundos\n"
          ],
          "name": "stdout"
        },
        {
          "output_type": "stream",
          "text": [
            "\n"
          ],
          "name": "stderr"
        }
      ]
    },
    {
      "cell_type": "code",
      "metadata": {
        "colab": {
          "base_uri": "https://localhost:8080/"
        },
        "id": "SJQHEWfSOglW",
        "outputId": "f4f14b92-2a54-43da-d360-2a92544df300"
      },
      "source": [
        "len(lista_api)"
      ],
      "execution_count": 34,
      "outputs": [
        {
          "output_type": "execute_result",
          "data": {
            "text/plain": [
              "100"
            ]
          },
          "metadata": {
            "tags": []
          },
          "execution_count": 34
        }
      ]
    },
    {
      "cell_type": "code",
      "metadata": {
        "colab": {
          "base_uri": "https://localhost:8080/"
        },
        "id": "oiTCEDJ8OghH",
        "outputId": "b0cda200-ca44-4648-99ec-bf6579135d87"
      },
      "source": [
        "lista_api[0]"
      ],
      "execution_count": 35,
      "outputs": [
        {
          "output_type": "execute_result",
          "data": {
            "text/plain": [
              "{'cpf': '36607606504',\n",
              " 'dataFalecimento': None,\n",
              " 'dataNascimento': '1965-02-13',\n",
              " 'escolaridade': 'Superior Incompleto',\n",
              " 'id': 204554,\n",
              " 'municipioNascimento': 'Salvador',\n",
              " 'nomeCivil': 'JOSE ABILIO SILVA DE SANTANA',\n",
              " 'redeSocial': [],\n",
              " 'sexo': 'M',\n",
              " 'ufNascimento': 'BA',\n",
              " 'ultimoStatus': {'condicaoEleitoral': 'Titular',\n",
              "  'data': '2019-02-01T11:45',\n",
              "  'descricaoStatus': None,\n",
              "  'email': 'dep.abiliosantana@camara.leg.br',\n",
              "  'gabinete': {'andar': '5',\n",
              "   'email': 'dep.abiliosantana@camara.leg.br',\n",
              "   'nome': '531',\n",
              "   'predio': '4',\n",
              "   'sala': '531',\n",
              "   'telefone': '3215-5531'},\n",
              "  'id': 204554,\n",
              "  'idLegislatura': 56,\n",
              "  'nome': 'Abílio Santana',\n",
              "  'nomeEleitoral': 'Abílio Santana',\n",
              "  'siglaPartido': 'PL',\n",
              "  'siglaUf': 'BA',\n",
              "  'situacao': 'Exercício',\n",
              "  'uri': 'https://dadosabertos.camara.leg.br/api/v2/deputados/204554',\n",
              "  'uriPartido': 'https://dadosabertos.camara.leg.br/api/v2/partidos/37906',\n",
              "  'urlFoto': 'https://www.camara.leg.br/internet/deputado/bandep/204554.jpg'},\n",
              " 'uri': 'https://dadosabertos.camara.leg.br/api/v2/deputados/204554',\n",
              " 'urlWebsite': None}"
            ]
          },
          "metadata": {
            "tags": []
          },
          "execution_count": 35
        }
      ]
    },
    {
      "cell_type": "markdown",
      "metadata": {
        "id": "kicR1eokOs6k"
      },
      "source": [
        "## Processamento paralelo dos id"
      ]
    },
    {
      "cell_type": "code",
      "metadata": {
        "colab": {
          "base_uri": "https://localhost:8080/"
        },
        "id": "kRa7AMxCOgde",
        "outputId": "88d2c676-d715-4155-c169-515adfc4376c"
      },
      "source": [
        "# Subprocessos para requisição em paralelo na API\n",
        "inicio_processo = time()\n",
        "\n",
        "subprocessos = []\n",
        "pool = ThreadPool(processes=10)\n",
        "\n",
        "for i in tqdm(ids):\n",
        "    resultado_paralelo = pool.apply_async(detalhe_deputado, (i, ))\n",
        "    subprocessos.append(resultado_paralelo)\n",
        "lista_api_paralela = [result.get(timeout=120) for result in tqdm(subprocessos)]\n",
        "\n",
        "fim_processo = time()\n",
        "processamento_paralelo = fim_processo - inicio_processo\n",
        "print('Processamento paralelo dos id:', round( (processamento_paralelo), 1 ), 'segundos')"
      ],
      "execution_count": 36,
      "outputs": [
        {
          "output_type": "stream",
          "text": [
            "100%|██████████| 100/100 [00:00<00:00, 39862.23it/s]\n",
            "100%|██████████| 100/100 [00:20<00:00,  4.90it/s]"
          ],
          "name": "stderr"
        },
        {
          "output_type": "stream",
          "text": [
            "Processamento paralelo dos id: 20.5 segundos\n"
          ],
          "name": "stdout"
        },
        {
          "output_type": "stream",
          "text": [
            "\n"
          ],
          "name": "stderr"
        }
      ]
    },
    {
      "cell_type": "code",
      "metadata": {
        "colab": {
          "base_uri": "https://localhost:8080/"
        },
        "id": "U7e_bcvVOgSw",
        "outputId": "c4e9492b-fa9d-4c5d-daee-d5f9e8af6966"
      },
      "source": [
        "len(lista_api_paralela)"
      ],
      "execution_count": 37,
      "outputs": [
        {
          "output_type": "execute_result",
          "data": {
            "text/plain": [
              "100"
            ]
          },
          "metadata": {
            "tags": []
          },
          "execution_count": 37
        }
      ]
    },
    {
      "cell_type": "code",
      "metadata": {
        "colab": {
          "base_uri": "https://localhost:8080/"
        },
        "id": "6O1UsFq_RVKR",
        "outputId": "9d2693b3-5746-4d82-a8f6-a07b3400e761"
      },
      "source": [
        "lista_api_paralela[0]"
      ],
      "execution_count": 38,
      "outputs": [
        {
          "output_type": "execute_result",
          "data": {
            "text/plain": [
              "{'cpf': '36607606504',\n",
              " 'dataFalecimento': None,\n",
              " 'dataNascimento': '1965-02-13',\n",
              " 'escolaridade': 'Superior Incompleto',\n",
              " 'id': 204554,\n",
              " 'municipioNascimento': 'Salvador',\n",
              " 'nomeCivil': 'JOSE ABILIO SILVA DE SANTANA',\n",
              " 'redeSocial': [],\n",
              " 'sexo': 'M',\n",
              " 'ufNascimento': 'BA',\n",
              " 'ultimoStatus': {'condicaoEleitoral': 'Titular',\n",
              "  'data': '2019-02-01T11:45',\n",
              "  'descricaoStatus': None,\n",
              "  'email': 'dep.abiliosantana@camara.leg.br',\n",
              "  'gabinete': {'andar': '5',\n",
              "   'email': 'dep.abiliosantana@camara.leg.br',\n",
              "   'nome': '531',\n",
              "   'predio': '4',\n",
              "   'sala': '531',\n",
              "   'telefone': '3215-5531'},\n",
              "  'id': 204554,\n",
              "  'idLegislatura': 56,\n",
              "  'nome': 'Abílio Santana',\n",
              "  'nomeEleitoral': 'Abílio Santana',\n",
              "  'siglaPartido': 'PL',\n",
              "  'siglaUf': 'BA',\n",
              "  'situacao': 'Exercício',\n",
              "  'uri': 'https://dadosabertos.camara.leg.br/api/v2/deputados/204554',\n",
              "  'uriPartido': 'https://dadosabertos.camara.leg.br/api/v2/partidos/37906',\n",
              "  'urlFoto': 'https://www.camara.leg.br/internet/deputado/bandep/204554.jpg'},\n",
              " 'uri': 'https://dadosabertos.camara.leg.br/api/v2/deputados/204554',\n",
              " 'urlWebsite': None}"
            ]
          },
          "metadata": {
            "tags": []
          },
          "execution_count": 38
        }
      ]
    },
    {
      "cell_type": "markdown",
      "metadata": {
        "id": "YqtV3HNH7p9V"
      },
      "source": [
        "# Estruturando dados com Pandas"
      ]
    },
    {
      "cell_type": "code",
      "metadata": {
        "id": "VaJpwCHV7uSO"
      },
      "source": [
        "df = pd.DataFrame(lista_api_paralela)"
      ],
      "execution_count": 39,
      "outputs": []
    },
    {
      "cell_type": "code",
      "metadata": {
        "colab": {
          "base_uri": "https://localhost:8080/",
          "height": 462
        },
        "id": "RY4hUu0k7zl7",
        "outputId": "02e9ecd8-3fcc-4bc9-af2d-56c9422f73a8"
      },
      "source": [
        "df.head()"
      ],
      "execution_count": 40,
      "outputs": [
        {
          "output_type": "execute_result",
          "data": {
            "text/html": [
              "<div>\n",
              "<style scoped>\n",
              "    .dataframe tbody tr th:only-of-type {\n",
              "        vertical-align: middle;\n",
              "    }\n",
              "\n",
              "    .dataframe tbody tr th {\n",
              "        vertical-align: top;\n",
              "    }\n",
              "\n",
              "    .dataframe thead th {\n",
              "        text-align: right;\n",
              "    }\n",
              "</style>\n",
              "<table border=\"1\" class=\"dataframe\">\n",
              "  <thead>\n",
              "    <tr style=\"text-align: right;\">\n",
              "      <th></th>\n",
              "      <th>id</th>\n",
              "      <th>uri</th>\n",
              "      <th>nomeCivil</th>\n",
              "      <th>ultimoStatus</th>\n",
              "      <th>cpf</th>\n",
              "      <th>sexo</th>\n",
              "      <th>urlWebsite</th>\n",
              "      <th>redeSocial</th>\n",
              "      <th>dataNascimento</th>\n",
              "      <th>dataFalecimento</th>\n",
              "      <th>ufNascimento</th>\n",
              "      <th>municipioNascimento</th>\n",
              "      <th>escolaridade</th>\n",
              "    </tr>\n",
              "  </thead>\n",
              "  <tbody>\n",
              "    <tr>\n",
              "      <th>0</th>\n",
              "      <td>204554</td>\n",
              "      <td>https://dadosabertos.camara.leg.br/api/v2/depu...</td>\n",
              "      <td>JOSE ABILIO SILVA DE SANTANA</td>\n",
              "      <td>{'id': 204554, 'uri': 'https://dadosabertos.ca...</td>\n",
              "      <td>36607606504</td>\n",
              "      <td>M</td>\n",
              "      <td>None</td>\n",
              "      <td>[]</td>\n",
              "      <td>1965-02-13</td>\n",
              "      <td>None</td>\n",
              "      <td>BA</td>\n",
              "      <td>Salvador</td>\n",
              "      <td>Superior Incompleto</td>\n",
              "    </tr>\n",
              "    <tr>\n",
              "      <th>1</th>\n",
              "      <td>204521</td>\n",
              "      <td>https://dadosabertos.camara.leg.br/api/v2/depu...</td>\n",
              "      <td>PAULO SERGIO ABOU ANNI</td>\n",
              "      <td>{'id': 204521, 'uri': 'https://dadosabertos.ca...</td>\n",
              "      <td>08496582841</td>\n",
              "      <td>M</td>\n",
              "      <td>None</td>\n",
              "      <td>[https://www.facebook.com/abou.anni.7, https:/...</td>\n",
              "      <td>1966-11-06</td>\n",
              "      <td>None</td>\n",
              "      <td>SP</td>\n",
              "      <td>São Paulo</td>\n",
              "      <td>Superior</td>\n",
              "    </tr>\n",
              "    <tr>\n",
              "      <th>2</th>\n",
              "      <td>204379</td>\n",
              "      <td>https://dadosabertos.camara.leg.br/api/v2/depu...</td>\n",
              "      <td>ACÁCIO DA SILVA FAVACHO NETO</td>\n",
              "      <td>{'id': 204379, 'uri': 'https://dadosabertos.ca...</td>\n",
              "      <td>74287028287</td>\n",
              "      <td>M</td>\n",
              "      <td>None</td>\n",
              "      <td>[acaciofavacho, deputadofederalacaciofavacho, ...</td>\n",
              "      <td>1983-09-28</td>\n",
              "      <td>None</td>\n",
              "      <td>AP</td>\n",
              "      <td>Macapá</td>\n",
              "      <td>Superior</td>\n",
              "    </tr>\n",
              "    <tr>\n",
              "      <th>3</th>\n",
              "      <td>204560</td>\n",
              "      <td>https://dadosabertos.camara.leg.br/api/v2/depu...</td>\n",
              "      <td>ADOLFO VIANA DE CASTRO NETO</td>\n",
              "      <td>{'id': 204560, 'uri': 'https://dadosabertos.ca...</td>\n",
              "      <td>80123848504</td>\n",
              "      <td>M</td>\n",
              "      <td>None</td>\n",
              "      <td>[]</td>\n",
              "      <td>1981-02-02</td>\n",
              "      <td>None</td>\n",
              "      <td>BA</td>\n",
              "      <td>Salvador</td>\n",
              "      <td>Superior</td>\n",
              "    </tr>\n",
              "    <tr>\n",
              "      <th>4</th>\n",
              "      <td>204528</td>\n",
              "      <td>https://dadosabertos.camara.leg.br/api/v2/depu...</td>\n",
              "      <td>ADRIANA MIGUEL VENTURA</td>\n",
              "      <td>{'id': 204528, 'uri': 'https://dadosabertos.ca...</td>\n",
              "      <td>12519851813</td>\n",
              "      <td>F</td>\n",
              "      <td>None</td>\n",
              "      <td>[adriventurasp, adriventurasp, adriventurasp, ...</td>\n",
              "      <td>1969-03-06</td>\n",
              "      <td>None</td>\n",
              "      <td>SP</td>\n",
              "      <td>São Paulo</td>\n",
              "      <td>Doutorado</td>\n",
              "    </tr>\n",
              "  </tbody>\n",
              "</table>\n",
              "</div>"
            ],
            "text/plain": [
              "       id  ...         escolaridade\n",
              "0  204554  ...  Superior Incompleto\n",
              "1  204521  ...             Superior\n",
              "2  204379  ...             Superior\n",
              "3  204560  ...             Superior\n",
              "4  204528  ...            Doutorado\n",
              "\n",
              "[5 rows x 13 columns]"
            ]
          },
          "metadata": {
            "tags": []
          },
          "execution_count": 40
        }
      ]
    },
    {
      "cell_type": "code",
      "metadata": {
        "colab": {
          "base_uri": "https://localhost:8080/"
        },
        "id": "ByP1EnWo8Dt1",
        "outputId": "110e31d4-38c7-427d-b504-396dc4985043"
      },
      "source": [
        "df.info()"
      ],
      "execution_count": 41,
      "outputs": [
        {
          "output_type": "stream",
          "text": [
            "<class 'pandas.core.frame.DataFrame'>\n",
            "RangeIndex: 100 entries, 0 to 99\n",
            "Data columns (total 13 columns):\n",
            " #   Column               Non-Null Count  Dtype \n",
            "---  ------               --------------  ----- \n",
            " 0   id                   100 non-null    int64 \n",
            " 1   uri                  100 non-null    object\n",
            " 2   nomeCivil            100 non-null    object\n",
            " 3   ultimoStatus         100 non-null    object\n",
            " 4   cpf                  100 non-null    object\n",
            " 5   sexo                 100 non-null    object\n",
            " 6   urlWebsite           3 non-null      object\n",
            " 7   redeSocial           100 non-null    object\n",
            " 8   dataNascimento       100 non-null    object\n",
            " 9   dataFalecimento      0 non-null      object\n",
            " 10  ufNascimento         99 non-null     object\n",
            " 11  municipioNascimento  100 non-null    object\n",
            " 12  escolaridade         100 non-null    object\n",
            "dtypes: int64(1), object(12)\n",
            "memory usage: 10.3+ KB\n"
          ],
          "name": "stdout"
        }
      ]
    },
    {
      "cell_type": "markdown",
      "metadata": {
        "id": "zKBkgsCy-cZi"
      },
      "source": [
        "# Analisando os Dados"
      ]
    },
    {
      "cell_type": "code",
      "metadata": {
        "id": "5-N2mHb38erJ",
        "colab": {
          "base_uri": "https://localhost:8080/"
        },
        "outputId": "5a438b6b-b371-496d-9ee8-62ce1817edd0"
      },
      "source": [
        "print(round( processamento_individual, 1 ), 'segundos foi o tempo de processamento de 01 requisição na API')\n",
        "print(round( processamento_sequencial, 1 ), 'segundos foi o tempo de processamento de 100 requisições sequenciais na API')\n",
        "print(round( processamento_paralelo, 1 ), 'segundos foi o tempo de processamento de 100 requisições paralelas na API')"
      ],
      "execution_count": 42,
      "outputs": [
        {
          "output_type": "stream",
          "text": [
            "0.6 segundos foi o tempo de processamento de 01 requisição na API\n",
            "59.5 segundos foi o tempo de processamento de 100 requisições sequenciais na API\n",
            "20.5 segundos foi o tempo de processamento de 100 requisições paralelas na API\n"
          ],
          "name": "stdout"
        }
      ]
    },
    {
      "cell_type": "code",
      "metadata": {
        "colab": {
          "base_uri": "https://localhost:8080/"
        },
        "id": "9nBXbmuyfIvv",
        "outputId": "06b21c9c-3a53-4bd9-f9de-67d9959cf660"
      },
      "source": [
        "print ('O processamento paralelo utilizou apenas {0:.0%}'.format(processamento_paralelo/processamento_sequencial),\n",
        "       'do tempo do processamento sequencial!')"
      ],
      "execution_count": 43,
      "outputs": [
        {
          "output_type": "stream",
          "text": [
            "O processamento paralelo utilizou apenas 34% do tempo do processamento sequencial!\n"
          ],
          "name": "stdout"
        }
      ]
    },
    {
      "cell_type": "code",
      "metadata": {
        "id": "9ED80ewH8p1z",
        "colab": {
          "base_uri": "https://localhost:8080/",
          "height": 351
        },
        "outputId": "e40656f2-4bb6-47b4-ec78-c0a903ecc098"
      },
      "source": [
        "# Análise comparando processamento sequencial x paralelo\n",
        "x = [processamento_sequencial,processamento_paralelo]\n",
        "y = ['processamento_sequencial','processamento_paralelo']\n",
        "plt.figure(figsize = (7, 5))\n",
        "sns.barplot(x=x, y=y, palette=\"deep\")\n",
        "plt.xlabel('Segundos')\n",
        "plt.plot()"
      ],
      "execution_count": 44,
      "outputs": [
        {
          "output_type": "execute_result",
          "data": {
            "text/plain": [
              "[]"
            ]
          },
          "metadata": {
            "tags": []
          },
          "execution_count": 44
        },
        {
          "output_type": "display_data",
          "data": {
            "image/png": "[encoded data removed]",
            "text/plain": [
              "<Figure size 504x360 with 1 Axes>"
            ]
          },
          "metadata": {
            "tags": [],
            "needs_background": "light"
          }
        }
      ]
    }
  ]
}